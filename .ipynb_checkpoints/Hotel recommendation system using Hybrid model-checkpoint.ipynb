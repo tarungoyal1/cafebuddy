{
 "cells": [
  {
   "cell_type": "code",
   "execution_count": 13,
   "metadata": {},
   "outputs": [
    {
     "name": "stdout",
     "output_type": "stream",
     "text": [
      " automator.py                                            main_info.csv\r\n",
      " \u001b[0m\u001b[01;32mcleartrip_hotels.csv\u001b[0m*                                   \u001b[01;34m__pycache__\u001b[0m/\r\n",
      "'Hotel recommendation system using Hybrid model.ipynb'  \u001b[01;34m'Untitled Folder'\u001b[0m/\r\n"
     ]
    }
   ],
   "source": [
    "%ls"
   ]
  },
  {
   "cell_type": "code",
   "execution_count": 14,
   "metadata": {},
   "outputs": [],
   "source": [
    "import pandas as pd\n",
    "import numpy as np"
   ]
  },
  {
   "cell_type": "code",
   "execution_count": 19,
   "metadata": {},
   "outputs": [
    {
     "data": {
      "text/html": [
       "<div>\n",
       "<style scoped>\n",
       "    .dataframe tbody tr th:only-of-type {\n",
       "        vertical-align: middle;\n",
       "    }\n",
       "\n",
       "    .dataframe tbody tr th {\n",
       "        vertical-align: top;\n",
       "    }\n",
       "\n",
       "    .dataframe thead th {\n",
       "        text-align: right;\n",
       "    }\n",
       "</style>\n",
       "<table border=\"1\" class=\"dataframe\">\n",
       "  <thead>\n",
       "    <tr style=\"text-align: right;\">\n",
       "      <th></th>\n",
       "      <th>id</th>\n",
       "      <th>property_id</th>\n",
       "      <th>property_name</th>\n",
       "      <th>city</th>\n",
       "      <th>province</th>\n",
       "      <th>area</th>\n",
       "      <th>state</th>\n",
       "      <th>address</th>\n",
       "      <th>room_count</th>\n",
       "      <th>room_type</th>\n",
       "      <th>tad_review_rating</th>\n",
       "    </tr>\n",
       "  </thead>\n",
       "  <tbody>\n",
       "    <tr>\n",
       "      <th>0</th>\n",
       "      <td>1</td>\n",
       "      <td>334539</td>\n",
       "      <td>Hotel Jivan Jyoti</td>\n",
       "      <td>Kalimpong</td>\n",
       "      <td>Kalimpong</td>\n",
       "      <td>'Rishi Road-Highway 12'</td>\n",
       "      <td>WestBengal</td>\n",
       "      <td>9th Mile, Kalimpong</td>\n",
       "      <td>9</td>\n",
       "      <td>Standard Room</td>\n",
       "      <td>2.5</td>\n",
       "    </tr>\n",
       "    <tr>\n",
       "      <th>1</th>\n",
       "      <td>2</td>\n",
       "      <td>1358354</td>\n",
       "      <td>OYO Premium Kalimati Road Jamshedpur</td>\n",
       "      <td>Jamshedpur</td>\n",
       "      <td>Jamshedpur</td>\n",
       "      <td>NaN</td>\n",
       "      <td>Jharkhand</td>\n",
       "      <td>New Kalimati Road, Kasidih, Sakchi</td>\n",
       "      <td>0</td>\n",
       "      <td>NaN</td>\n",
       "      <td>0.0</td>\n",
       "    </tr>\n",
       "    <tr>\n",
       "      <th>2</th>\n",
       "      <td>3</td>\n",
       "      <td>1358804</td>\n",
       "      <td>OYO Rooms Bera Road</td>\n",
       "      <td>Jaisalmer</td>\n",
       "      <td>Jaisalmer</td>\n",
       "      <td>NaN</td>\n",
       "      <td>Rajasthan</td>\n",
       "      <td>Opposite Nagarpalika, Near Pushkarna Bera, Pos...</td>\n",
       "      <td>0</td>\n",
       "      <td>NaN</td>\n",
       "      <td>0.0</td>\n",
       "    </tr>\n",
       "    <tr>\n",
       "      <th>3</th>\n",
       "      <td>4</td>\n",
       "      <td>1324474</td>\n",
       "      <td>Grand Kakinada by GRT Hotels</td>\n",
       "      <td>Kakinada</td>\n",
       "      <td>Kakinada</td>\n",
       "      <td>'Cinema Road'</td>\n",
       "      <td>AndhraPradesh</td>\n",
       "      <td>11-3-11 Veterinary Hospital road,Ramarao peta</td>\n",
       "      <td>85</td>\n",
       "      <td>Business Room</td>\n",
       "      <td>4.5</td>\n",
       "    </tr>\n",
       "    <tr>\n",
       "      <th>4</th>\n",
       "      <td>5</td>\n",
       "      <td>354020</td>\n",
       "      <td>Hotel Gorakh Haveli</td>\n",
       "      <td>Jaisalmer</td>\n",
       "      <td>Jaisalmer</td>\n",
       "      <td>'Near Jaisalmer Golden Fort'</td>\n",
       "      <td>Rajasthan</td>\n",
       "      <td>Near Fort First Gate, Dhibbapara</td>\n",
       "      <td>17</td>\n",
       "      <td>Deluxe</td>\n",
       "      <td>4.0</td>\n",
       "    </tr>\n",
       "  </tbody>\n",
       "</table>\n",
       "</div>"
      ],
      "text/plain": [
       "   id  property_id                         property_name        city  \\\n",
       "0   1       334539                     Hotel Jivan Jyoti   Kalimpong   \n",
       "1   2      1358354  OYO Premium Kalimati Road Jamshedpur  Jamshedpur   \n",
       "2   3      1358804                   OYO Rooms Bera Road   Jaisalmer   \n",
       "3   4      1324474          Grand Kakinada by GRT Hotels    Kakinada   \n",
       "4   5       354020                   Hotel Gorakh Haveli   Jaisalmer   \n",
       "\n",
       "     province                          area          state  \\\n",
       "0   Kalimpong       'Rishi Road-Highway 12'     WestBengal   \n",
       "1  Jamshedpur                           NaN      Jharkhand   \n",
       "2   Jaisalmer                           NaN      Rajasthan   \n",
       "3    Kakinada                 'Cinema Road'  AndhraPradesh   \n",
       "4   Jaisalmer  'Near Jaisalmer Golden Fort'      Rajasthan   \n",
       "\n",
       "                                             address  room_count  \\\n",
       "0                                9th Mile, Kalimpong           9   \n",
       "1                 New Kalimati Road, Kasidih, Sakchi           0   \n",
       "2  Opposite Nagarpalika, Near Pushkarna Bera, Pos...           0   \n",
       "3      11-3-11 Veterinary Hospital road,Ramarao peta          85   \n",
       "4                   Near Fort First Gate, Dhibbapara          17   \n",
       "\n",
       "       room_type   tad_review_rating  \n",
       "0  Standard Room                 2.5  \n",
       "1            NaN                 0.0  \n",
       "2            NaN                 0.0  \n",
       "3  Business Room                 4.5  \n",
       "4         Deluxe                 4.0  "
      ]
     },
     "execution_count": 19,
     "metadata": {},
     "output_type": "execute_result"
    }
   ],
   "source": [
    "hotels = pd.read_csv('indianhotels.csv')\n",
    "frame.head()"
   ]
  },
  {
   "cell_type": "code",
   "execution_count": null,
   "metadata": {},
   "outputs": [],
   "source": [
    "# get 'rating' coloumn\n",
    "ratings = unique_places['rating']"
   ]
  }
 ],
 "metadata": {
  "kernelspec": {
   "display_name": "Python 3",
   "language": "python",
   "name": "python3"
  },
  "language_info": {
   "codemirror_mode": {
    "name": "ipython",
    "version": 3
   },
   "file_extension": ".py",
   "mimetype": "text/x-python",
   "name": "python",
   "nbconvert_exporter": "python",
   "pygments_lexer": "ipython3",
   "version": "3.6.5"
  }
 },
 "nbformat": 4,
 "nbformat_minor": 2
}
